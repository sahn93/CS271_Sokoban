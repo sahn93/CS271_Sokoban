{
 "cells": [
  {
   "cell_type": "code",
   "execution_count": 1,
   "id": "1c4ba328-3d89-4983-8c77-63527149aba3",
   "metadata": {},
   "outputs": [
    {
     "name": "stdout",
     "output_type": "stream",
     "text": [
      "###\n",
      "#@#\n",
      "#$#\n",
      "#.#\n",
      "###\n",
      "########\n",
      "#. #   #\n",
      "#  $   #\n",
      "#   # ##\n",
      "## # $.#\n",
      "#   $  #\n",
      "#  .# @#\n",
      "########\n"
     ]
    }
   ],
   "source": [
    "def read_file(path: str):\n",
    "    def parse_data(line: str) -> list[(int, int)]:\n",
    "        data = list(map(int, line.split()))\n",
    "        coordinates = []\n",
    "        for i in range(data[0]):\n",
    "            coordinates.append((data[i*2 + 1], data[(i+1)*2]))\n",
    "        return coordinates\n",
    "    \n",
    "    with open(path, 'r') as f:\n",
    "        board_size = tuple(map(int, f.readline().split()))\n",
    "        walls = parse_data(f.readline())\n",
    "        boxes = parse_data(f.readline())\n",
    "        storages = parse_data(f.readline())\n",
    "        player = tuple(map(int, f.readline().split()))\n",
    "        \n",
    "    return board_size, walls, boxes, storages, player\n",
    "\n",
    "def visualize(data):\n",
    "    board_size, walls, boxes, storages, player = data\n",
    "    board = [[' '] * board_size[1] for _ in range(board_size[0])]\n",
    "    for x, y in walls:\n",
    "        board[x-1][y-1] = '#'\n",
    "    for x, y in boxes:\n",
    "        board[x-1][y-1] = '$'\n",
    "    for x, y in storages:\n",
    "        board[x-1][y-1] = '.'\n",
    "    board[player[0]-1][player[1]-1] = '@'\n",
    "    \n",
    "    for r in board:\n",
    "        print(''.join(r))\n",
    "\n",
    "data = read_file('sokoban00.txt')\n",
    "visualize(data)\n",
    "\n",
    "data = read_file('sokoban01.txt')\n",
    "visualize(data)"
   ]
  },
  {
   "cell_type": "code",
   "execution_count": null,
   "id": "648a2d4c-917e-417a-98b9-04ec7bd314c9",
   "metadata": {},
   "outputs": [],
   "source": []
  }
 ],
 "metadata": {
  "kernelspec": {
   "display_name": "Python 3 (ipykernel)",
   "language": "python",
   "name": "python3"
  },
  "language_info": {
   "codemirror_mode": {
    "name": "ipython",
    "version": 3
   },
   "file_extension": ".py",
   "mimetype": "text/x-python",
   "name": "python",
   "nbconvert_exporter": "python",
   "pygments_lexer": "ipython3",
   "version": "3.9.5"
  }
 },
 "nbformat": 4,
 "nbformat_minor": 5
}
